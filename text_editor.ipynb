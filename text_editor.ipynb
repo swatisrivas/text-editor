{
 "cells": [
  {
   "cell_type": "code",
   "execution_count": 11,
   "metadata": {},
   "outputs": [],
   "source": [
    "from tkinter import *\n",
    "import tkinter as tk\n",
    "\n",
    "\n",
    "def openFile(): \n",
    "    print(\"hello\")\n",
    "\n",
    "\n",
    "def newFile(): \n",
    "    print(\"hola\")\n",
    "\n",
    "def promptName():\n",
    "    top = tk.Toplevel()\n",
    "    top.geometry(\"300x60+%d+%d\" % (int(window.winfo_screenwidth()/2) - 250, int(window.winfo_screenheight()/2) - 300))\n",
    "    top.title = \"Save As\"\n",
    "    e = StringVar()\n",
    "    e.set(\"\")\n",
    "    e1= Entry(top, textvariable= e, width = 300)\n",
    "    e1.grid(row = 0, columnspan=20, ipady = 5, ipadx = 10)\n",
    "    btn = Button(top, text=\"Cancel\", fg=\"black\",width=10,command = lambda :top.destroy())\n",
    "    btn.grid(row = 1, column= 0, pady = 3)\n",
    "    btn2 = Button(top, text=\"Save\", fg=\"black\", width= 10,command= lambda:saveFile(e.get(),top))\n",
    "    btn2.grid(row = 1,column = 1, pady = 3)\n",
    "    \n",
    "\n",
    "def saveFile(name, top):\n",
    "    top.destroy()\n",
    "    if(name != \"\"):\n",
    "        f = open(name+\".txt\", \"w\")\n",
    "        f.write(T.get(\"1.0\",END))\n",
    "        f.close()\n",
    "\n",
    "window=Tk()\n",
    "window.title(\"Capsule\")\n",
    "window.state(\"zoomed\")\n",
    "\n",
    "\n",
    "menubar = Menu(window)\n",
    "        \n",
    "editorMenu = Menu(menubar, tearoff = 0) \n",
    "menubar.add_cascade(label ='File', menu = editorMenu)\n",
    "#Menu Items\n",
    "editorMenu.add_command(label ='New', command = lambda: newFile()) \n",
    "editorMenu.add_command(label ='Open', command = lambda:openFile()) \n",
    "editorMenu.add_command(label ='Save', command = lambda:promptName())\n",
    "#editorMenu.add_command(label ='Save As', command = lambda:(window, self.saveFile))\n",
    "\n",
    "T = tk.Text(window, height=2, width=30)\n",
    "T.pack(side=LEFT, fill=BOTH, expand = YES)\n",
    "#T.grid(sticky = N + E + S + W)\n",
    "\n",
    "window.configure(menu = menubar, bg=\"cyan\")\n",
    "\n",
    "\n",
    "\n",
    "window.mainloop()"
   ]
  },
  {
   "cell_type": "code",
   "execution_count": null,
   "metadata": {},
   "outputs": [],
   "source": []
  }
 ],
 "metadata": {
  "kernelspec": {
   "display_name": "Python 3",
   "language": "python",
   "name": "python3"
  },
  "language_info": {
   "codemirror_mode": {
    "name": "ipython",
    "version": 3
   },
   "file_extension": ".py",
   "mimetype": "text/x-python",
   "name": "python",
   "nbconvert_exporter": "python",
   "pygments_lexer": "ipython3",
   "version": "3.7.1"
  }
 },
 "nbformat": 4,
 "nbformat_minor": 2
}
